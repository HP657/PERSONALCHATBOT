{
 "cells": [
  {
   "cell_type": "markdown",
   "metadata": {},
   "source": [
    "카카오톡 텍스트를 받아서 나와 상대방으로 챗봇을 만들어보았어요.\n",
    "아직 초짜라 이것저것 그냥 보고 배낀것들이에요 양해 부탁드려요.\n",
    "중간중간에 주석 되어있는 부분은 자기 컴퓨터에 해당되는 것들로 바꿔주세요.\n",
    "1대1 채팅만 만들어보았으니 참고해주시고 카카오톡 1대1 방에서 채팅 내보내기한 텍스트 파일로 만들어본것입니다."
   ]
  },
  {
   "cell_type": "markdown",
   "metadata": {},
   "source": [
    "전처리 과정"
   ]
  },
  {
   "cell_type": "code",
   "execution_count": null,
   "metadata": {},
   "outputs": [],
   "source": [
    "import re\n",
    "import pandas as pd\n",
    "import os\n",
    "from sentence_transformers import SentenceTransformer\n",
    "from sklearn.metrics.pairwise import cosine_similarity"
   ]
  },
  {
   "cell_type": "code",
   "execution_count": null,
   "metadata": {},
   "outputs": [],
   "source": [
    "\n",
    "def katalk_msg_parse(file_path):\n",
    "    my_katalk_data = list()\n",
    "    katalk_msg_pattern = \"[0-9]{4}[년.] [0-9]{1,2}[월.] [0-9]{1,2}[일.] 오\\S [0-9]{1,2}:[0-9]{1,2},.*:\"\n",
    "    date_info = \"[0-9]{4}년 [0-9]{1,2}월 [0-9]{1,2}일 \\S요일\"\n",
    "    in_out_info = \"[0-9]{4}[년.] [0-9]{1,2}[월.] [0-9]{1,2}[일.] 오\\S [0-9]{1,2}:[0-9]{1,2}:.*\"\n",
    "\n",
    "\n",
    "    for line in open(file_path, encoding=\"utf-8\"):\n",
    "        if re.match(date_info, line) or re.match(in_out_info, line):\n",
    "            continue\n",
    "        elif line == '\\n':\n",
    "            continue\n",
    "        elif re.match(katalk_msg_pattern, line):\n",
    "            line = line.split(\",\")\n",
    "            date_time = line[0]\n",
    "            user_text = line[1].split(\" : \", maxsplit=1)\n",
    "            user_name = user_text[0].strip()\n",
    "            text = user_text[1].strip()\n",
    "            my_katalk_data.append({'date_time': date_time,\n",
    "                                   'user_name': user_name,\n",
    "                                   'text': text\n",
    "                                   })\n",
    "\n",
    "        else:\n",
    "            if len(my_katalk_data) > 0:\n",
    "                my_katalk_data[-1]['text'] += \"\\n\" + line.strip()\n",
    "\n",
    "\n",
    "    my_katalk_df = pd.DataFrame(my_katalk_data)\n",
    "    return my_katalk_df\n",
    "\n",
    "\n",
    "f_path = 'text_data.txt'  #가져올 카카오톡 텍스트 파일을 적어주세요\n",
    "df = katalk_msg_parse(os.path.join(f_path))\n",
    "\n",
    "\n",
    "save_path = 'csv_data.csv' #전처리를 완료할 csv파일이름을 적어주세요\n",
    "\n",
    "\n",
    "\n",
    "\n",
    "my_user_name = \"\"  #  \"\" 사이에 자신의 카카오톡 이름을 적어주세요\n",
    "\n",
    "\n",
    "df['user_name'] = df['user_name'].apply(lambda x: 'me' if x == my_user_name else ('you'))\n",
    "\n",
    "\n",
    "df['group'] = (df['user_name'] != df['user_name'].shift()).cumsum()\n",
    "df_grouped = df.groupby('group').agg({'user_name': 'first', 'text': lambda x: \" \".join(x)}).reset_index()\n",
    "\n",
    "\n",
    "\n",
    "mask_me_rows = df_grouped['user_name'] == \"me\"\n",
    "mask_next_row_after_me_rows = mask_me_rows.shift(-1)\n",
    "mask_next_row_after_me_rows.fillna(False, inplace=True)\n",
    "responses = df_grouped.loc[mask_next_row_after_me_rows, \"text\"].values.tolist()\n",
    "responses.append('')\n",
    "\n",
    "df_grouped.loc[mask_me_rows, \"response\"] = responses\n",
    "\n",
    "\n",
    "response_indices_to_drop = mask_next_row_after_me_rows[mask_next_row_after_me_rows].index.values.tolist()\n",
    "if len(df_grouped) in response_indices_to_drop:\n",
    "    response_indices_to_drop.remove(len(df_grouped))\n",
    "\n",
    "\n",
    "\n",
    "\n",
    "delete_columns = ['user_name', 'group']\n",
    "delete_rows = response_indices_to_drop\n",
    "\n",
    "df_grouped.drop(columns=delete_columns, inplace=True)\n",
    "df_grouped.drop(delete_rows, inplace=True)\n",
    "\n",
    "df_final = df_grouped\n",
    "\n",
    "df_final.to_csv(save_path, index=False)\n",
    "\n",
    "\n",
    "df_final\n"
   ]
  },
  {
   "cell_type": "markdown",
   "metadata": {},
   "source": []
  },
  {
   "cell_type": "code",
   "execution_count": null,
   "metadata": {},
   "outputs": [],
   "source": [
    "model = SentenceTransformer('jhgan/ko-sroberta-multitask')\n",
    "\n",
    "df = pd.read_csv(r\"test_data.csv\")\n",
    "\n",
    "df.head()"
   ]
  },
  {
   "cell_type": "code",
   "execution_count": null,
   "metadata": {},
   "outputs": [],
   "source": [
    "print(df.loc[0, 'text'])\n",
    "model.encode(df.loc[0, 'text'])"
   ]
  },
  {
   "cell_type": "code",
   "execution_count": null,
   "metadata": {},
   "outputs": [],
   "source": [
    "df['embedding'] = pd.Series([[]] * len(df))\n",
    "\n",
    "df['embedding'] = df['text'].map(lambda x: list(model.encode(x)))\n",
    "\n",
    "df.head()"
   ]
  },
  {
   "cell_type": "code",
   "execution_count": null,
   "metadata": {},
   "outputs": [],
   "source": [
    "df.to_csv('test_reult_(1).csv', index = False)"
   ]
  },
  {
   "cell_type": "code",
   "execution_count": null,
   "metadata": {},
   "outputs": [],
   "source": [
    "while True:\n",
    "    enter = input(\"뭐라고? :\")\n",
    "\n",
    "    embedding = model.encode(enter)\n",
    "\n",
    "    df['distance'] = df['embedding'].map(lambda x: cosine_similarity([embedding], [x]).squeeze())\n",
    "\n",
    "    answer = df.loc[df['distance'].idxmax()]\n",
    "\n",
    "    print('질문 : ', enter)\n",
    "    print('상대방 답변 : ', answer['response'])\n",
    "    print('유사도 : ', answer['distance'])"
   ]
  }
 ],
 "metadata": {
  "kernelspec": {
   "display_name": "Python 3",
   "language": "python",
   "name": "python3"
  },
  "language_info": {
   "codemirror_mode": {
    "name": "ipython",
    "version": 3
   },
   "file_extension": ".py",
   "mimetype": "text/x-python",
   "name": "python",
   "nbconvert_exporter": "python",
   "pygments_lexer": "ipython3",
   "version": "3.11.5"
  },
  "orig_nbformat": 4
 },
 "nbformat": 4,
 "nbformat_minor": 2
}
